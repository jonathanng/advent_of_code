{
 "cells": [
  {
   "cell_type": "code",
   "execution_count": 1,
   "metadata": {},
   "outputs": [
    {
     "data": {
      "text/plain": [
       "1478097"
      ]
     },
     "execution_count": 1,
     "metadata": {},
     "output_type": "execute_result"
    }
   ],
   "source": [
    "import tqdm\n",
    "\n",
    "train = '''5764801\n",
    "17807724'''\n",
    "\n",
    "\n",
    "test = '''9232416\n",
    "14144084'''\n",
    "\n",
    "\n",
    "class Handshaker:\n",
    "    \n",
    "    def __init__(self, public_keys):\n",
    "    \n",
    "        self.public_key = {\n",
    "            k: int(v)\n",
    "            for k, v\n",
    "            in zip(['card', 'door'], public_keys.split('\\n'))} \n",
    "                \n",
    "        self.loop_size = {}\n",
    "\n",
    "    def transform_slow(self, subject, loop_size):\n",
    "        \n",
    "        for _loop_size in range(loop_size):\n",
    "            self.transform_fast(subject=subject, loop_size=_loop_size)\n",
    "            \n",
    "        return self.transform_fast(subject=subject, loop_size=loop_size)\n",
    "        \n",
    "    @functools.lru_cache()\n",
    "    def transform_fast(self, subject, loop_size):\n",
    "\n",
    "        if loop_size == 0:\n",
    "            return 1\n",
    "        \n",
    "        value = self.transform_fast(\n",
    "            subject   = subject,\n",
    "            loop_size = loop_size - 1)\n",
    "\n",
    "        value *= subject\n",
    "        value  = value % 20201227\n",
    "\n",
    "        return value\n",
    "    \n",
    "    def set_loop_size(self, device_type):\n",
    "        \n",
    "        guess = 1\n",
    "        while not self.is_valid_loop_size(device_type=device_type, guess=guess):\n",
    "            guess += 1\n",
    "        self.loop_size[device_type] = guess\n",
    "        \n",
    "        return self\n",
    "    \n",
    "    def is_valid_loop_size(self, device_type, guess):\n",
    "        value = self.transform_fast(subject=7, loop_size=guess)\n",
    "        return value == self.public_key[device_type]\n",
    "    \n",
    "    def get_encryption_key(self):\n",
    "    \n",
    "        encryption_key_1 = self.transform_slow(\n",
    "            subject   = self.public_key['door'],\n",
    "            loop_size = self.loop_size['card'])\n",
    "                \n",
    "        encryption_key_1 = self.transform_slow(\n",
    "            subject   = self.public_key['card'],\n",
    "            loop_size = self.loop_size['door'])\n",
    "                \n",
    "        assert encryption_key_1 == encryption_key_1\n",
    "        \n",
    "        return encryption_key_1\n",
    "\n",
    "self = Handshaker(public_keys=train)\n",
    "assert self.set_loop_size('card').set_loop_size('door').get_encryption_key() == 14897079\n",
    "\n",
    "self = Handshaker(public_keys=test)\n",
    "self.set_loop_size('card').set_loop_size('door').get_encryption_key()"
   ]
  }
 ],
 "metadata": {
  "kernelspec": {
   "display_name": "Python 3",
   "language": "python",
   "name": "python3"
  },
  "language_info": {
   "codemirror_mode": {
    "name": "ipython",
    "version": 3
   },
   "file_extension": ".py",
   "mimetype": "text/x-python",
   "name": "python",
   "nbconvert_exporter": "python",
   "pygments_lexer": "ipython3",
   "version": "3.7.9"
  }
 },
 "nbformat": 4,
 "nbformat_minor": 4
}

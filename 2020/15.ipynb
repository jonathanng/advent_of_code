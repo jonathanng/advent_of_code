{
 "cells": [
  {
   "cell_type": "code",
   "execution_count": 86,
   "metadata": {},
   "outputs": [
    {
     "name": "stderr",
     "output_type": "stream",
     "text": [
      "100%|██████████| 2017/2017 [00:00<00:00, 620455.53it/s]\n",
      "100%|██████████| 2017/2017 [00:00<00:00, 761811.00it/s]\n",
      "100%|██████████| 2017/2017 [00:00<00:00, 801811.31it/s]\n",
      "100%|██████████| 2017/2017 [00:00<00:00, 1223237.59it/s]\n",
      "100%|██████████| 2017/2017 [00:00<00:00, 777493.90it/s]\n",
      "100%|██████████| 2017/2017 [00:00<00:00, 1086414.69it/s]\n",
      "100%|██████████| 2017/2017 [00:00<00:00, 848281.48it/s]\n",
      "100%|██████████| 2013/2013 [00:00<00:00, 799312.12it/s]\n"
     ]
    },
    {
     "data": {
      "text/plain": [
       "289"
      ]
     },
     "execution_count": 86,
     "metadata": {},
     "output_type": "execute_result"
    },
    {
     "name": "stderr",
     "output_type": "stream",
     "text": [
      "100%|██████████| 29999993/29999993 [00:25<00:00, 1190187.65it/s]\n"
     ]
    },
    {
     "data": {
      "text/plain": [
       "1505722"
      ]
     },
     "execution_count": 86,
     "metadata": {},
     "output_type": "execute_result"
    }
   ],
   "source": [
    "import tqdm\n",
    "\n",
    "trains = [\n",
    "    ([0,3,6], 436),\n",
    "    ([1,3,2], 1),\n",
    "    ([2,1,3], 10),\n",
    "    ([1,2,3], 27),\n",
    "    ([2,3,1], 78),\n",
    "    ([3,2,1], 438),\n",
    "    ([3,1,2], 1836),\n",
    "]\n",
    "\n",
    "test = [0,8,15,2,12,1,4]\n",
    "\n",
    "class MemoryGame:\n",
    "    \n",
    "    def __init__(self, starting_numbers):\n",
    "\n",
    "        self.turn        = len(starting_numbers)\n",
    "        self.prev_number = starting_numbers[-1]\n",
    "        self.last_seen   = {}\n",
    "\n",
    "        for turn, x in enumerate(starting_numbers[:-1]):\n",
    "            self.last_seen[x] = turn\n",
    "\n",
    "    def go(self):\n",
    "\n",
    "        try:\n",
    "            age = self.turn - self.last_seen[self.prev_number] - 1\n",
    "        except KeyError:\n",
    "            age = 0\n",
    "        \n",
    "        self.last_seen[self.prev_number] = self.turn - 1\n",
    "        \n",
    "        self.turn += 1\n",
    "        self.prev_number = age\n",
    "        \n",
    "    def play(self, until=2020):        \n",
    "        for _ in tqdm.tqdm(range(self.turn, until)):\n",
    "            self.go()\n",
    "        return self\n",
    "\n",
    "for train in trains:\n",
    "    self = MemoryGame(starting_numbers=train[0])\n",
    "    assert self.play(until=2020).prev_number == train[1]\n",
    "    \n",
    "self = MemoryGame(starting_numbers=test)\n",
    "self.play(until=2020).prev_number\n",
    "\n",
    "self = MemoryGame(starting_numbers=test)\n",
    "self.play(until=30000000).prev_number"
   ]
  }
 ],
 "metadata": {
  "kernelspec": {
   "display_name": "Python 3",
   "language": "python",
   "name": "python3"
  },
  "language_info": {
   "codemirror_mode": {
    "name": "ipython",
    "version": 3
   },
   "file_extension": ".py",
   "mimetype": "text/x-python",
   "name": "python",
   "nbconvert_exporter": "python",
   "pygments_lexer": "ipython3",
   "version": "3.7.3"
  }
 },
 "nbformat": 4,
 "nbformat_minor": 4
}

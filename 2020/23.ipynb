{
 "cells": [
  {
   "cell_type": "code",
   "execution_count": 2,
   "metadata": {},
   "outputs": [
    {
     "name": "stdout",
     "output_type": "stream",
     "text": [
      "\n",
      "\n"
     ]
    },
    {
     "name": "stderr",
     "output_type": "stream",
     "text": [
      "/home/ec2-user/anaconda3/lib/python3.7/site-packages/ipykernel_launcher.py:24: TqdmDeprecationWarning: This function will be removed in tqdm==5.0.0\n",
      "Please use `tqdm.notebook.tqdm` instead of `tqdm.tqdm_notebook`\n"
     ]
    },
    {
     "data": {
      "application/vnd.jupyter.widget-view+json": {
       "model_id": "fbc7acea74a946948a2a6e642b109a0b",
       "version_major": 2,
       "version_minor": 0
      },
      "text/plain": [
       "HBox(children=(HTML(value=''), FloatProgress(value=1.0, bar_style='info', layout=Layout(width='20px'), max=1.0…"
      ]
     },
     "metadata": {},
     "output_type": "display_data"
    },
    {
     "data": {
      "application/vnd.jupyter.widget-view+json": {
       "model_id": "cf8a2476f8e34c9cbd72dedbaad4bafe",
       "version_major": 2,
       "version_minor": 0
      },
      "text/plain": [
       "HBox(children=(HTML(value=''), FloatProgress(value=1.0, bar_style='info', layout=Layout(width='20px'), max=1.0…"
      ]
     },
     "metadata": {},
     "output_type": "display_data"
    },
    {
     "data": {
      "application/vnd.jupyter.widget-view+json": {
       "model_id": "645fb1a5dc32484dbfb3c06eded9d0e3",
       "version_major": 2,
       "version_minor": 0
      },
      "text/plain": [
       "HBox(children=(HTML(value=''), FloatProgress(value=1.0, bar_style='info', layout=Layout(width='20px'), max=1.0…"
      ]
     },
     "metadata": {},
     "output_type": "display_data"
    },
    {
     "data": {
      "text/plain": [
       "46978532"
      ]
     },
     "execution_count": 2,
     "metadata": {},
     "output_type": "execute_result"
    }
   ],
   "source": [
    "from tqdm import tqdm_notebook\n",
    "\n",
    "train = '389125467'\n",
    "test = '215694783'\n",
    "\n",
    "class CupCircle:\n",
    "\n",
    "    def __init__(self, cups):\n",
    "        \n",
    "        cups = list(map(int, cups))\n",
    "        \n",
    "        data = {\n",
    "            value: next_value\n",
    "            for value, next_value\n",
    "            in zip(list(cups), list(cups)[1:])}\n",
    "        \n",
    "        data[list(cups)[-1]] = list(cups)[0]\n",
    "            \n",
    "        self.series = pd.Series(\n",
    "            data = data,\n",
    "            name = 'next')\n",
    "        \n",
    "        self.current = self.series.index[0]\n",
    "        self.bar = tqdm_notebook()\n",
    "        \n",
    "        self.min_value = self.series.min()\n",
    "        self.max_value = self.series.max()\n",
    "        \n",
    "    def move(self):\n",
    "\n",
    "        # print(f'cups: {self.cups_str(self.current)}')\n",
    "        \n",
    "        removed_cups = list(itertools.islice(self.next_iter(self.current), 1, 4))\n",
    "        # print('pick up: ' + ' '.join(map(str, removed_cups)))\n",
    "\n",
    "        self.series[self.current] = self.series[removed_cups[-1]]\n",
    "\n",
    "        destination = self.current - 1\n",
    "\n",
    "        while True:\n",
    "            \n",
    "            if destination < self.min_value:\n",
    "                destination = self.max_value\n",
    "            \n",
    "            if destination not in removed_cups:\n",
    "                break\n",
    "                \n",
    "            destination -= 1\n",
    "\n",
    "        # print(f'destination: {destination}')\n",
    "        \n",
    "        self.series[removed_cups[-1]] = self.series[destination]\n",
    "        self.series[destination]      = removed_cups[0]\n",
    "            \n",
    "        self.current = self.series[self.current]    \n",
    "            \n",
    "        self.bar.update()\n",
    "\n",
    "        return self\n",
    "    \n",
    "    def next_iter(self, start):\n",
    "        \n",
    "        current = start\n",
    "        yield start\n",
    "        \n",
    "        while True:\n",
    "            current = self.series[current]\n",
    "            yield current\n",
    "            \n",
    "    def cups_str(self, start):\n",
    "        \n",
    "        values = []\n",
    "        for value in self.next_iter(start):\n",
    "            if len(values) > 0 and value == start:\n",
    "                break\n",
    "            values.append(value)\n",
    "            \n",
    "        return ' '.join(map(str, values))\n",
    "\n",
    "    def simulate(self, n):\n",
    "        for _ in range(n):\n",
    "            self.move()\n",
    "            \n",
    "        return self\n",
    "    \n",
    "    def results(self):\n",
    "        return int(self.cups_str(1).replace(' ', '')[1:])\n",
    "        \n",
    "self = CupCircle(cups=train)\n",
    "assert self.simulate(10).results() == 92658374\n",
    "\n",
    "self = CupCircle(cups=train)\n",
    "assert self.simulate(100).results() == 67384529\n",
    "\n",
    "self = CupCircle(cups=test)\n",
    "self.simulate(100).results()"
   ]
  },
  {
   "cell_type": "code",
   "execution_count": 3,
   "metadata": {},
   "outputs": [
    {
     "name": "stderr",
     "output_type": "stream",
     "text": [
      "/home/ec2-user/anaconda3/lib/python3.7/site-packages/ipykernel_launcher.py:24: TqdmDeprecationWarning: This function will be removed in tqdm==5.0.0\n",
      "Please use `tqdm.notebook.tqdm` instead of `tqdm.tqdm_notebook`\n"
     ]
    },
    {
     "data": {
      "application/vnd.jupyter.widget-view+json": {
       "model_id": "6106f628fb6b44baa9fb7d53bdc3dfae",
       "version_major": 2,
       "version_minor": 0
      },
      "text/plain": [
       "HBox(children=(HTML(value=''), FloatProgress(value=1.0, bar_style='info', layout=Layout(width='20px'), max=1.0…"
      ]
     },
     "metadata": {},
     "output_type": "display_data"
    },
    {
     "name": "stdout",
     "output_type": "stream",
     "text": [
      "\n",
      "\n",
      "\n"
     ]
    },
    {
     "data": {
      "application/vnd.jupyter.widget-view+json": {
       "model_id": "20daba0b6ca046a4beb195f46e266e78",
       "version_major": 2,
       "version_minor": 0
      },
      "text/plain": [
       "HBox(children=(HTML(value=''), FloatProgress(value=1.0, bar_style='info', layout=Layout(width='20px'), max=1.0…"
      ]
     },
     "metadata": {},
     "output_type": "display_data"
    },
    {
     "name": "stdout",
     "output_type": "stream",
     "text": [
      "\n"
     ]
    },
    {
     "data": {
      "text/plain": [
       "163035127721"
      ]
     },
     "execution_count": 3,
     "metadata": {},
     "output_type": "execute_result"
    }
   ],
   "source": [
    "class MillionCupCircle(CupCircle):\n",
    "    \n",
    "    def __init__(self, cups, max_value=1000000):\n",
    "        \n",
    "        super().__init__(cups=cups)\n",
    "        \n",
    "        additions = list(range(self.series.max() + 1, max_value + 1))\n",
    "        \n",
    "        self.series.iloc[-1] = additions[0]\n",
    "        \n",
    "        data = {\n",
    "            value: next_value\n",
    "            for value, next_value\n",
    "            in zip(additions, additions[1:])}\n",
    "        data[max_value] = self.series.index[0]\n",
    "        \n",
    "        self.series = self.series.append(pd.Series(data))\n",
    "        \n",
    "        self.min_value = self.series.min()\n",
    "        self.max_value = self.series.max()\n",
    "            \n",
    "    def results(self):\n",
    "        value_1 = self.series[1]\n",
    "        value_2 = self.series[value_1]\n",
    "        return value_1 * value_2\n",
    "            \n",
    "self = MillionCupCircle(cups=train)\n",
    "assert self.simulate(10000000).results() == 149245887792\n",
    "\n",
    "self = MillionCupCircle(cups=test)\n",
    "self.simulate(10000000).results()"
   ]
  }
 ],
 "metadata": {
  "kernelspec": {
   "display_name": "Python 3",
   "language": "python",
   "name": "python3"
  },
  "language_info": {
   "codemirror_mode": {
    "name": "ipython",
    "version": 3
   },
   "file_extension": ".py",
   "mimetype": "text/x-python",
   "name": "python",
   "nbconvert_exporter": "python",
   "pygments_lexer": "ipython3",
   "version": "3.7.9"
  }
 },
 "nbformat": 4,
 "nbformat_minor": 4
}

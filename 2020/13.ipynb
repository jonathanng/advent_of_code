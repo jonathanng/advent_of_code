{
 "cells": [
  {
   "cell_type": "code",
   "execution_count": 19,
   "metadata": {},
   "outputs": [
    {
     "data": {
      "text/plain": [
       "261.0"
      ]
     },
     "execution_count": 19,
     "metadata": {},
     "output_type": "execute_result"
    },
    {
     "data": {
      "text/plain": [
       "807435693182510"
      ]
     },
     "execution_count": 19,
     "metadata": {},
     "output_type": "execute_result"
    }
   ],
   "source": [
    "train = '''939\n",
    "7,13,x,x,59,x,31,19'''\n",
    "\n",
    "test = '''1001796\n",
    "37,x,x,x,x,x,x,x,x,x,x,x,x,x,x,x,x,x,x,x,x,x,x,x,x,x,x,41,x,x,x,x,x,x,x,x,x,457,x,x,x,x,x,x,x,x,x,x,x,x,13,17,x,x,x,x,x,x,x,x,23,x,x,x,x,x,29,x,431,x,x,x,x,x,x,x,x,x,x,x,x,x,x,x,x,x,x,19'''\n",
    "\n",
    "class ShuttleBuses():\n",
    "    \n",
    "    def __init__(self, notes):\n",
    "\n",
    "        earliest_ts, bus_ids = notes.split('\\n')\n",
    "\n",
    "        self.earliest_ts = int(earliest_ts)\n",
    "\n",
    "        self.bus_ids = pd.Series(data=bus_ids.split(','), name='bus_id').map(lambda x: np.nan if x == 'x' else int(x))\n",
    "        \n",
    "    def find_earliest_bus(self):\n",
    "        \n",
    "        next_departures = {\n",
    "            int(bus_id): 0\n",
    "            for bus_id\n",
    "            in self.bus_ids.dropna()}\n",
    "\n",
    "        ts = self.earliest_ts\n",
    "\n",
    "        while True:\n",
    "\n",
    "            for bus_id in self.bus_ids.dropna():\n",
    "                while next_departures[bus_id] < ts:\n",
    "                    next_departures[bus_id] += bus_id\n",
    "\n",
    "                if ts == next_departures[bus_id]:\n",
    "                    return({\n",
    "                        'ts':     ts,\n",
    "                        'bus_id': bus_id})\n",
    "\n",
    "            ts += 1\n",
    "            \n",
    "    def find_contest_solution(self):\n",
    "        \n",
    "        def _get_wave(index):\n",
    "\n",
    "            bus_id = self.bus_ids[index]\n",
    "\n",
    "            if np.isnan(bus_id):\n",
    "                return {\n",
    "                    'start':  0,\n",
    "                    'length': 1}\n",
    "\n",
    "            return {\n",
    "                'start':  bus_id - index,\n",
    "                'length': bus_id}\n",
    "        \n",
    "        def _combine_wave(wave_1, wave_2):\n",
    "\n",
    "            start_1  = wave_1['start']\n",
    "            start_2  = wave_2['start']\n",
    "            \n",
    "            length_1 = wave_1['length']\n",
    "            length_2 = wave_2['length']\n",
    "\n",
    "            max_length = max(length_1, length_2)\n",
    "            min_length = min(length_1, length_2)\n",
    "\n",
    "            start       = {length_1: start_1, length_2: start_2}[max_length]\n",
    "            other_start = {length_1: start_1, length_2: start_2}[min_length]\n",
    "\n",
    "            while (start - other_start) % min_length != 0:\n",
    "                start += max_length\n",
    "\n",
    "            gcd    = math.gcd(length_1, length_2)\n",
    "            length = int(length_1 * length_2 / gcd)\n",
    "\n",
    "            return {\n",
    "                'start':  start,\n",
    "                'length': length}\n",
    "\n",
    "        df = pd.DataFrame({\n",
    "            index: _get_wave(index)\n",
    "            for index\n",
    "            in self.bus_ids.index}).T.astype(int)\n",
    "\n",
    "        wave = {\n",
    "            'start':  0,\n",
    "            'length': 1}\n",
    "\n",
    "        for row in df.itertuples():\n",
    "            wave_2 = {\n",
    "                'start':  row.start,\n",
    "                'length': row.length}\n",
    "            wave = _combine_wave(wave_1=wave, wave_2=wave_2)\n",
    "\n",
    "        return wave\n",
    "    \n",
    "self = ShuttleBuses(notes=train)\n",
    "data = self.find_earliest_bus()\n",
    "assert (data['ts'] - self.earliest_ts) * data['bus_id'] == 295\n",
    "assert self.find_contest_solution()['start'] == 1068781\n",
    "\n",
    "self = ShuttleBuses(notes=test)\n",
    "data = self.find_earliest_bus()\n",
    "(data['ts'] - self.earliest_ts) * data['bus_id']\n",
    "self.find_contest_solution()['start']"
   ]
  }
 ],
 "metadata": {
  "kernelspec": {
   "display_name": "Python 3",
   "language": "python",
   "name": "python3"
  },
  "language_info": {
   "codemirror_mode": {
    "name": "ipython",
    "version": 3
   },
   "file_extension": ".py",
   "mimetype": "text/x-python",
   "name": "python",
   "nbconvert_exporter": "python",
   "pygments_lexer": "ipython3",
   "version": "3.7.3"
  }
 },
 "nbformat": 4,
 "nbformat_minor": 4
}
